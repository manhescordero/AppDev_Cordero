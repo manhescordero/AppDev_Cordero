{
  "nbformat": 4,
  "nbformat_minor": 0,
  "metadata": {
    "colab": {
      "provenance": []
    },
    "kernelspec": {
      "name": "python3",
      "display_name": "Python 3"
    },
    "language_info": {
      "name": "python"
    }
  },
  "cells": [
    {
      "cell_type": "markdown",
      "source": [
        "Exercise 1\n"
      ],
      "metadata": {
        "id": "P9Y7UrnKmWsi"
      }
    },
    {
      "cell_type": "code",
      "source": [
        "Investigate on the difference between is and == given the following variables.\n",
        "\n",
        "a = 2\n",
        "b = 2.0\n",
        "c = a\n",
        "\n",
        "a is b #(is) is used to declare same variables like a and b\n",
        "a == b #(==) is comparing the value of a to b"
      ],
      "metadata": {
        "id": "nUVPoTtYqNey"
      },
      "execution_count": null,
      "outputs": []
    },
    {
      "cell_type": "markdown",
      "source": [
        "challenge 1\n"
      ],
      "metadata": {
        "id": "SCaHdG9Kpasa"
      }
    },
    {
      "cell_type": "code",
      "source": [
        "total = 0\n",
        "count = 0\n",
        "\n",
        "while True:\n",
        "    num_input = input(\"Enter a number: \")\n",
        "    if num_input == 'done':\n",
        "        break\n",
        "    try:\n",
        "        num = float(num_input)\n",
        "        total += num\n",
        "        count += 1\n",
        "    except ValueError:\n",
        "        print(\"Invalid input\")\n",
        "        continue\n",
        "\n",
        "if count == 0:\n",
        "    print(\"No numbers entered.\")\n",
        "else:\n",
        "    average = total / count\n",
        "\n",
        "    print(\"\\nTotal:\", total)\n",
        "    print(\"Count:\", count)\n",
        "    print(\"Average:\", average)"
      ],
      "metadata": {
        "id": "utOFONyipUp7"
      },
      "execution_count": null,
      "outputs": []
    },
    {
      "cell_type": "markdown",
      "source": [
        "challenge 2"
      ],
      "metadata": {
        "id": "2k0Nc3Pppd5z"
      }
    },
    {
      "cell_type": "code",
      "source": [
        "def computegrade(score):\n",
        "    if score >= 97 and score <= 100:\n",
        "        return '1.0'\n",
        "    elif score >= 93 and score < 97:\n",
        "        return '1.25'\n",
        "    elif score >= 89 and score < 93:\n",
        "        return '1.5'\n",
        "    elif score >= 85 and score < 89:\n",
        "        return '1.75'\n",
        "    elif score >= 81 and score < 85:\n",
        "        return '2.0'\n",
        "    elif score >= 77 and score < 81:\n",
        "        return '2.25'\n",
        "    elif score >= 74 and score < 77:\n",
        "        return '2.5'\n",
        "    elif score >= 0 and score < 74:\n",
        "        return '3.0'\n",
        "    else:\n",
        "        return 'Invalid score'\n",
        "\n",
        "\n",
        "scores = [100, 97, 93, 89, 85, 81, 77, 74]\n",
        "print(\"Score             Grade\")\n",
        "print(\"[ 97, 100]        1.0\")\n",
        "print(\"[ 93,  97)        1.25\")\n",
        "print(\"[ 89,  93)        1.5\")\n",
        "print(\"[ 85,  89)        1.75\")\n",
        "print(\"[ 81,  85)        2.0\")\n",
        "print(\"[ 77,  81)        2.25\")\n",
        "print(\"[ 74,  77)        2.5\")\n",
        "print(\"[ 0,   74)        3.0\")\n",
        "\n",
        "\n",
        "for score in scores:\n",
        "    score = int (input(\"\\nEnter your score: \"))\n",
        "    print(\"Your grade is: \"+ computegrade(score))\n"
      ],
      "metadata": {
        "id": "YX2irhbxpmLI"
      },
      "execution_count": null,
      "outputs": []
    },
    {
      "cell_type": "markdown",
      "source": [],
      "metadata": {
        "id": "3HzO_LXhplni"
      }
    }
  ]
}