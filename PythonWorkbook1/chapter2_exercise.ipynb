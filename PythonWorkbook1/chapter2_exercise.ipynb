{
  "nbformat": 4,
  "nbformat_minor": 0,
  "metadata": {
    "colab": {
      "provenance": []
    },
    "kernelspec": {
      "name": "python3",
      "display_name": "Python 3"
    },
    "language_info": {
      "name": "python"
    }
  },
  "cells": [
    {
      "cell_type": "markdown",
      "source": [
        "\n",
        "EXERCISE #1"
      ],
      "metadata": {
        "id": "xTeRw7WA2TB4"
      }
    },
    {
      "cell_type": "markdown",
      "source": [
        "Write a program that uses input to prompt a user for their name and then welcomes them."
      ],
      "metadata": {
        "id": "NxTySACu421d"
      }
    },
    {
      "cell_type": "code",
      "execution_count": null,
      "metadata": {
        "colab": {
          "base_uri": "https://localhost:8080/"
        },
        "id": "hxYU-RTZ1ZAv",
        "outputId": "ae8f9b67-d45f-4541-c118-8d0560cbb73c"
      },
      "outputs": [
        {
          "output_type": "stream",
          "name": "stdout",
          "text": [
            "Enter your name: chuck\n",
            "Hello chuck\n"
          ]
        }
      ],
      "source": [
        "name = input('Enter your name: ')\n",
        "print('Hello', name)\n"
      ]
    },
    {
      "cell_type": "markdown",
      "source": [
        "Exercise 2\n"
      ],
      "metadata": {
        "id": "W-Z1zkjGvqRm"
      }
    },
    {
      "cell_type": "code",
      "source": [
        "hours = float(input(\"Enter Hours: \"))\n",
        "rate = float(input(\"Enter Rate: \"))\n",
        "pay = hours * rate\n",
        "print(\"Pay:\", pay)\n"
      ],
      "metadata": {
        "id": "NY1qahki58sQ",
        "colab": {
          "base_uri": "https://localhost:8080/"
        },
        "outputId": "02571ae9-ce70-471b-f4f7-eb8843928642"
      },
      "execution_count": null,
      "outputs": [
        {
          "output_type": "stream",
          "name": "stdout",
          "text": [
            "Enter Hours: 35\n",
            "Enter Rate: 2.75\n",
            "Pay: 96.25\n"
          ]
        }
      ]
    },
    {
      "cell_type": "markdown",
      "source": [
        "Exercise 3\n"
      ],
      "metadata": {
        "id": "va9wfIWrv2HV"
      }
    },
    {
      "cell_type": "code",
      "source": [
        "width = 17\n",
        "heigth = 12.0\n",
        "\n",
        "print(width)\n",
        "print(height)\n",
        "\n",
        "result1 =width //2\n",
        "print(\"Expression 1: \", result1)\n",
        "\n",
        "result2 =width /2.0\n",
        "print(\"Expression 2: \", result2)\n",
        "\n",
        "result3 =height /3\n",
        "print(\"Expression 3: \", result3)\n",
        "\n",
        "result4 =1 + 2 * 5\n",
        "print(\"Expression 4: \", result4)\n"
      ],
      "metadata": {
        "colab": {
          "base_uri": "https://localhost:8080/"
        },
        "id": "qaKIcqQP4C1N",
        "outputId": "12096487-415c-42dc-ee16-f5851036e8e2"
      },
      "execution_count": null,
      "outputs": [
        {
          "output_type": "stream",
          "name": "stdout",
          "text": [
            "17\n",
            "12.0\n",
            "Expression 1:  8\n",
            "Expression 2:  8.5\n",
            "Expression 3:  4.0\n",
            "Expression 4:  11\n"
          ]
        }
      ]
    },
    {
      "cell_type": "markdown",
      "source": [],
      "metadata": {
        "id": "UPsMgJRn4Ciu"
      }
    },
    {
      "cell_type": "markdown",
      "source": [
        "Exercise 4"
      ],
      "metadata": {
        "id": "GaEHZeqHwCWO"
      }
    },
    {
      "cell_type": "code",
      "source": [
        "number = float(input(\"Enter a number: \"))\n",
        "\n",
        "square = number ** 2\n",
        "\n",
        "print(\"The square of\", number, \"is\", square)"
      ],
      "metadata": {
        "colab": {
          "base_uri": "https://localhost:8080/"
        },
        "id": "Kpe6E2hJti8P",
        "outputId": "58575a15-cb36-4e75-f7b7-4b78a992dea7"
      },
      "execution_count": null,
      "outputs": [
        {
          "output_type": "stream",
          "name": "stdout",
          "text": [
            "Enter a number: 3\n",
            "The square of 3.0 is 9.0\n"
          ]
        }
      ]
    },
    {
      "cell_type": "markdown",
      "source": [],
      "metadata": {
        "id": "ERJ9E8v1tiMm"
      }
    },
    {
      "cell_type": "code",
      "source": [
        "celsius = float(input(\"Enter the temperature in celsius: \"))\n",
        "fahrenheit = (celsius * 9/5) + 32\n",
        "print (\"The temperature in fahrenheit is\", fahrenheit)\n"
      ],
      "metadata": {
        "colab": {
          "base_uri": "https://localhost:8080/"
        },
        "id": "oDHm1xwP9QMG",
        "outputId": "dbc489f7-c471-4626-9939-83352d8e5795"
      },
      "execution_count": null,
      "outputs": [
        {
          "output_type": "stream",
          "name": "stdout",
          "text": [
            "Enter the temperature in celsius: 20\n",
            "The temperature in fahrenheit is 68.0\n"
          ]
        }
      ]
    }
  ]
}