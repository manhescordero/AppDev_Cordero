{
  "nbformat": 4,
  "nbformat_minor": 0,
  "metadata": {
    "colab": {
      "provenance": []
    },
    "kernelspec": {
      "name": "python3",
      "display_name": "Python 3"
    },
    "language_info": {
      "name": "python"
    }
  },
  "cells": [
    {
      "cell_type": "markdown",
      "source": [
        "Exercise 1"
      ],
      "metadata": {
        "id": "sGiI_GKPjJXr"
      }
    },
    {
      "cell_type": "code",
      "execution_count": null,
      "metadata": {
        "id": "zWS7jV58ipg1"
      },
      "outputs": [],
      "source": [
        "x = int(input(\"Enter number\"))\n",
        "\n",
        "if (x > 50) :\n",
        "    print('Above 50')\n",
        "\n",
        "elif x >  20 :\n",
        "    print('Above 20')\n",
        "\n",
        "elif x > 10 :\n",
        "    print('Above 10')\n",
        "\n",
        "elif x >  0 :\n",
        "    print('Above 0')\n",
        "\n",
        "else :\n",
        "    print('Something else')"
      ]
    },
    {
      "cell_type": "markdown",
      "source": [
        "Exercise 2"
      ],
      "metadata": {
        "id": "zSDWOsqljNNx"
      }
    },
    {
      "cell_type": "code",
      "source": [
        "hours = float(input(\"Enter Hours: \"))\n",
        "rate = float(input(\"Enter Rate: \"))\n",
        "pay = hours * rate\n",
        "print(\"Pay:\", pay)\n"
      ],
      "metadata": {
        "id": "C2gXlfq5i0Qx"
      },
      "execution_count": null,
      "outputs": []
    },
    {
      "cell_type": "markdown",
      "source": [
        "Challenge"
      ],
      "metadata": {
        "id": "bniL21BJjP1a"
      }
    },
    {
      "cell_type": "code",
      "source": [
        "grade = int(input(\"Enter score: \"))\n",
        "\n",
        "if(grade >= 97):\n",
        "  print(\"Your grade: 1.0\")\n",
        "elif(grade >= 93):\n",
        "  print(\"Your grade: 1.25\")\n",
        "elif(grade >= 89):\n",
        "  print(\"Your grade: 1.5\")\n",
        "elif(grade >= 85):\n",
        "  print(\"Your grade: 1.75\")\n",
        "elif(grade >= 81):\n",
        "  print(\"Your grade: 2.0\")\n",
        "elif(grade >= 77):\n",
        "  print(\"Your grade: 2.25\")\n",
        "elif(grade >= 74):\n",
        "  print(\"Your grade: 2.5\")\n",
        "elif(grade >= 0):\n",
        "  print(\"Your grade: 3.0\")"
      ],
      "metadata": {
        "colab": {
          "base_uri": "https://localhost:8080/"
        },
        "id": "rReIO8Y7jPJ5",
        "outputId": "728bbe3a-9338-4e1e-f568-98c52ade468f"
      },
      "execution_count": 1,
      "outputs": [
        {
          "output_type": "stream",
          "name": "stdout",
          "text": [
            "Enter score: 98\n",
            "Your grade: 1.0\n"
          ]
        }
      ]
    },
    {
      "cell_type": "markdown",
      "source": [],
      "metadata": {
        "id": "d83Qd7mUixYS"
      }
    }
  ]
}