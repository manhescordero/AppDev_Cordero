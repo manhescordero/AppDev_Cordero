{
  "nbformat": 4,
  "nbformat_minor": 0,
  "metadata": {
    "colab": {
      "provenance": []
    },
    "kernelspec": {
      "name": "python3",
      "display_name": "Python 3"
    },
    "language_info": {
      "name": "python"
    }
  },
  "cells": [
    {
      "cell_type": "markdown",
      "source": [
        "Exercise 1"
      ],
      "metadata": {
        "id": "-5RdbKIMlrTg"
      }
    },
    {
      "cell_type": "code",
      "execution_count": 1,
      "metadata": {
        "colab": {
          "base_uri": "https://localhost:8080/"
        },
        "id": "ICx16vQTlPEQ",
        "outputId": "2dbf6b84-f547-439e-9a7f-283647a87120"
      },
      "outputs": [
        {
          "output_type": "stream",
          "name": "stdout",
          "text": [
            "Enter Hours: 24\n",
            "Enter Rate: 5\n",
            "Pay: 120.0\n"
          ]
        }
      ],
      "source": [
        "hours_worked = float(input(\"Enter Hours: \"))\n",
        "hourly_rate = float(input(\"Enter Rate: \"))\n",
        "\n",
        "total_pay = hours_worked * hourly_rate\n",
        "\n",
        "print(\"Pay:\", total_pay)"
      ]
    },
    {
      "cell_type": "markdown",
      "source": [
        "challenge"
      ],
      "metadata": {
        "id": "WnmRNRxnl22R"
      }
    },
    {
      "cell_type": "code",
      "source": [
        "def computegrade(score):\n",
        "    if score >= 97 and score <= 100:\n",
        "        return '1.0'\n",
        "    elif score >= 93 and score < 97:\n",
        "        return '1.25'\n",
        "    elif score >= 89 and score < 93:\n",
        "        return '1.5'\n",
        "    elif score >= 85 and score < 89:\n",
        "        return '1.75'\n",
        "    elif score >= 81 and score < 85:\n",
        "        return '2.0'\n",
        "    elif score >= 77 and score < 81:\n",
        "        return '2.25'\n",
        "    elif score >= 74 and score < 77:\n",
        "        return '2.5'\n",
        "    elif score >= 0 and score < 74:\n",
        "        return '3.0'\n",
        "    else:\n",
        "        return 'Invalid score'\n",
        "\n",
        "\n",
        "scores = [100, 97, 93, 89, 85, 81, 77, 74]\n",
        "print(\"Score             Grade\")\n",
        "print(\"[ 97, 100]        1.0\")\n",
        "print(\"[ 93,  97)        1.25\")\n",
        "print(\"[ 89,  93)        1.5\")\n",
        "print(\"[ 85,  89)        1.75\")\n",
        "print(\"[ 81,  85)        2.0\")\n",
        "print(\"[ 77,  81)        2.25\")\n",
        "print(\"[ 74,  77)        2.5\")\n",
        "print(\"[ 0,   74)        3.0\")\n",
        "\n",
        "\n",
        "for score in scores:\n",
        "    score = int (input(\"\\nEnter your score: \"))\n",
        "    print(\"Your grade is: \"+ computegrade(score))\n",
        "Write to Robin Firmeza\n"
      ],
      "metadata": {
        "id": "5v5KAzDZl4rl"
      },
      "execution_count": null,
      "outputs": []
    }
  ]
}