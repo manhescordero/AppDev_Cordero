{
  "nbformat": 4,
  "nbformat_minor": 0,
  "metadata": {
    "colab": {
      "provenance": []
    },
    "kernelspec": {
      "name": "python3",
      "display_name": "Python 3"
    },
    "language_info": {
      "name": "python"
    }
  },
  "cells": [
    {
      "cell_type": "markdown",
      "source": [
        "EXERCISE #1\n"
      ],
      "metadata": {
        "id": "Gl2dYgjeuzr6"
      }
    },
    {
      "cell_type": "code",
      "execution_count": null,
      "metadata": {
        "id": "JNy4G9H0lEjM"
      },
      "outputs": [],
      "source": [
        "Print('Hello world!')\n",
        "print('Hello world!')"
      ]
    },
    {
      "cell_type": "markdown",
      "source": [
        "The error in this line code is \"P\" because it is big letter"
      ],
      "metadata": {
        "id": "bxN2-pI4vXpR"
      }
    },
    {
      "cell_type": "code",
      "source": [
        "print'Hello world!')\n",
        "print('Hello world!')"
      ],
      "metadata": {
        "id": "7okCdmA7uzOZ"
      },
      "execution_count": null,
      "outputs": []
    },
    {
      "cell_type": "markdown",
      "source": [
        "The *error* in this line code is the missing open parenthesis"
      ],
      "metadata": {
        "id": "hGGU6ce9wr45"
      }
    },
    {
      "cell_type": "code",
      "source": [
        "print('Hello world!)\n",
        "print('Hello world!')"
      ],
      "metadata": {
        "id": "WS6ZvwXQxDoK"
      },
      "execution_count": null,
      "outputs": []
    },
    {
      "cell_type": "markdown",
      "source": [
        "The error in this line code is the missing apostrophe mark"
      ],
      "metadata": {
        "id": "nYrryHXyxQdg"
      }
    },
    {
      "cell_type": "code",
      "source": [
        "print('Hello world!'')\n",
        "print('Hello world!')"
      ],
      "metadata": {
        "id": "M-poOysYx_xB"
      },
      "execution_count": null,
      "outputs": []
    },
    {
      "cell_type": "markdown",
      "source": [
        "The error in this line code it has another apostrophe\n"
      ],
      "metadata": {
        "id": "rVj_Y2CByTaC"
      }
    },
    {
      "cell_type": "markdown",
      "source": [
        "EXERCISE #2"
      ],
      "metadata": {
        "id": "CI4LbZMlzdcz"
      }
    },
    {
      "cell_type": "code",
      "source": [
        "x = 43\n",
        "x = x+ 1\n",
        "print(x)"
      ],
      "metadata": {
        "id": "5Gs6zg3dzkwQ"
      },
      "execution_count": null,
      "outputs": []
    },
    {
      "cell_type": "markdown",
      "source": [
        "It has no error of this line of code"
      ],
      "metadata": {
        "id": "3gLPm8E1zwm7"
      }
    },
    {
      "cell_type": "markdown",
      "source": [
        "EXERCISE #3"
      ],
      "metadata": {
        "id": "RSfzecAc3ptq"
      }
    },
    {
      "cell_type": "code",
      "source": [
        "x = 43\n",
        "x = X+ 1\n",
        "print(x)"
      ],
      "metadata": {
        "id": "J-fSR3ZZz5OR"
      },
      "execution_count": null,
      "outputs": []
    },
    {
      "cell_type": "markdown",
      "source": [
        "The error of this line code is the  variable X is big"
      ],
      "metadata": {
        "id": "ZtZ_A71-3uaJ"
      }
    }
  ]
}